{
 "cells": [
  {
   "cell_type": "code",
   "execution_count": 1,
   "id": "e173b0cc",
   "metadata": {},
   "outputs": [],
   "source": [
    "import pandas as pd\n",
    "import requests,openpyxl\n",
    "from bs4 import BeautifulSoup\n"
   ]
  },
  {
   "cell_type": "code",
   "execution_count": 2,
   "id": "80915648",
   "metadata": {},
   "outputs": [],
   "source": [
    "excel = openpyxl.Workbook()\n",
    "sheet = excel.active\n",
    "sheet.title = \"Top rated movies\"\n",
    "sheet.append([\"Movie Rank\",\"Movie Name\",\"Movie Release Date\",\"IMDB Rating\"])"
   ]
  },
  {
   "cell_type": "code",
   "execution_count": 3,
   "id": "18ff7133",
   "metadata": {},
   "outputs": [],
   "source": [
    "try:\n",
    "    source = requests.get(\"https://www.imdb.com/chart/top/\")\n",
    "    source.raise_for_status()\n",
    "    \n",
    "    soup = BeautifulSoup(source.text,'html.parser')\n",
    "    movies = soup.find(\"tbody\",class_ =\"lister-list\").find_all(\"tr\")\n",
    "     \n",
    "    for movie in movies:\n",
    "        name = movie.find(\"td\",class_ = \"titleColumn\").a.text.strip()\n",
    "        rank = movie.find(\"td\",class_ = \"titleColumn\").get_text(strip=True).split(\".\")[0]\n",
    "        year = movie.find(\"td\",class_ = \"titleColumn\").span.text.strip('()')\n",
    "        rating = movie.find(\"td\",class_ = \"ratingColumn imdbRating\").text.strip()\n",
    "        sheet.append([rank,name,year,rating])\n",
    "except Exception as e:\n",
    "    print(e)"
   ]
  },
  {
   "cell_type": "code",
   "execution_count": 4,
   "id": "11fbcb61",
   "metadata": {},
   "outputs": [],
   "source": [
    "excel.save(\"IMDB Movie Ratings.xlsx\")"
   ]
  },
  {
   "cell_type": "code",
   "execution_count": null,
   "id": "2cec336d",
   "metadata": {},
   "outputs": [],
   "source": []
  },
  {
   "cell_type": "code",
   "execution_count": null,
   "id": "387d7a50",
   "metadata": {},
   "outputs": [],
   "source": []
  },
  {
   "cell_type": "code",
   "execution_count": null,
   "id": "65006e3e",
   "metadata": {},
   "outputs": [],
   "source": []
  },
  {
   "cell_type": "code",
   "execution_count": null,
   "id": "73190101",
   "metadata": {},
   "outputs": [],
   "source": [
    "\n"
   ]
  },
  {
   "cell_type": "code",
   "execution_count": null,
   "id": "b8954811",
   "metadata": {},
   "outputs": [],
   "source": []
  },
  {
   "cell_type": "code",
   "execution_count": null,
   "id": "89c0680a",
   "metadata": {},
   "outputs": [],
   "source": []
  },
  {
   "cell_type": "code",
   "execution_count": null,
   "id": "ecab929e",
   "metadata": {},
   "outputs": [],
   "source": []
  },
  {
   "cell_type": "code",
   "execution_count": null,
   "id": "ef065e59",
   "metadata": {},
   "outputs": [],
   "source": []
  },
  {
   "cell_type": "code",
   "execution_count": null,
   "id": "9fba00de",
   "metadata": {},
   "outputs": [],
   "source": []
  },
  {
   "cell_type": "code",
   "execution_count": null,
   "id": "c3542af4",
   "metadata": {},
   "outputs": [],
   "source": []
  },
  {
   "cell_type": "code",
   "execution_count": null,
   "id": "beb5da48",
   "metadata": {},
   "outputs": [],
   "source": []
  },
  {
   "cell_type": "code",
   "execution_count": null,
   "id": "c668df48",
   "metadata": {},
   "outputs": [],
   "source": []
  }
 ],
 "metadata": {
  "kernelspec": {
   "display_name": "conda[root]",
   "language": "python",
   "name": "sample"
  },
  "language_info": {
   "codemirror_mode": {
    "name": "ipython",
    "version": 3
   },
   "file_extension": ".py",
   "mimetype": "text/x-python",
   "name": "python",
   "nbconvert_exporter": "python",
   "pygments_lexer": "ipython3",
   "version": "3.10.8"
  }
 },
 "nbformat": 4,
 "nbformat_minor": 5
}
