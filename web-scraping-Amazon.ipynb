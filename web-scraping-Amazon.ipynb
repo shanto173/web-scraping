{
 "cells": [
  {
   "cell_type": "code",
   "execution_count": 1,
   "id": "e173b0cc",
   "metadata": {},
   "outputs": [],
   "source": [
    "# import libraries \n",
    "\n",
    "from bs4 import BeautifulSoup\n",
    "import requests\n",
    "import time\n",
    "import datetime\n",
    "import pandas as pd"
   ]
  },
  {
   "cell_type": "code",
   "execution_count": 2,
   "id": "eb85f15e",
   "metadata": {},
   "outputs": [],
   "source": [
    "def get_title(soup):\n",
    "    try:\n",
    "        title_string = soup.find('span',id='productTitle').text.strip()\n",
    "        \n",
    "    except AttributeError:\n",
    "        title_string = \"\"\n",
    "    return title_string\n",
    "\n",
    "def get_price(soup):\n",
    "    try:\n",
    "        price = soup.find('span',class_='a-price-whole').text.strip()\n",
    "        \n",
    "    except AttributeError:\n",
    "        price = \"\"\n",
    "\n",
    "    return price\n",
    "        \n",
    "\n",
    "def get_rating(soup):\n",
    "    try:\n",
    "        ratings = soup.find('i',class_='a-icon a-icon-star a-star-3-5').text.strip()\n",
    "        \n",
    "    except AttributeError:\n",
    "        ratings = \"\"\n",
    "    return ratings\n",
    "        \n",
    "def get_review_count(soup):\n",
    "    try:\n",
    "        count_review = soup.find('span',id='acrCustomerReviewText').text.strip()\n",
    "        \n",
    "    except AttributeError:\n",
    "        count_review = \"\"\n",
    "    return count_review\n",
    "        \n",
    "def get_availability(soup):\n",
    "    try:\n",
    "        avilable = soup.find('span',class_='a-size-medium a-color-success').text.strip()\n",
    "        \n",
    "    except AttributeError:\n",
    "        avilable = \"\"\n",
    "    return avilable\n",
    "        \n",
    "        "
   ]
  },
  {
   "cell_type": "code",
   "execution_count": 3,
   "id": "beb5da48",
   "metadata": {},
   "outputs": [],
   "source": [
    "if __name__ == '__main__':\n",
    "    \n",
    "#### \n",
    "\n",
    "    link_list=[]\n",
    "    HEADERS = ({'User-Agent':'Mozilla/5.0 (Windows NT 10.0; Win64; x64) AppleWebKit/537.36 (KHTML, like Gecko) Chrome/112.0.0.0 Safari/537.36', 'Accept-Language': 'en-US, en;q=0.5'})\n",
    "    d = {\"title\":[], \"price\":[], \"rating\":[], \"reviews\":[],\"availability\":[]}\n",
    "    for i in range(2):\n",
    "        URL = f\"https://www.amazon.in/s?k=playstation+5&page={i}&qid=1681969945&sprefix=play%2Caps%2C881&ref=sr_pg_2\"\n",
    "\n",
    "        webpage = requests.get(URL,headers=HEADERS)\n",
    "\n",
    "        soup = BeautifulSoup(webpage.content,'html.parser')\n",
    "\n",
    "        links = soup.find_all('a',attrs={'class':'a-link-normal s-underline-text s-underline-link-text s-link-style a-text-normal'})\n",
    "\n",
    "        for link in links:\n",
    "            link_list.append(link.get('href'))\n",
    "\n",
    "#####    \n",
    "\n",
    "\n",
    "    for link in link_list:\n",
    "        new_webpage = requests.get('https://amazon.in'+link,headers=HEADERS)\n",
    "        \n",
    "        new_soup = BeautifulSoup(new_webpage.content,'html.parser')\n",
    "        \n",
    "        d['title'].append(get_title(new_soup))\n",
    "        d['price'].append(get_price(new_soup))\n",
    "        d['rating'].append(get_rating(new_soup))\n",
    "        d['reviews'].append(get_review_count(new_soup))\n",
    "        d['availability'].append(get_availability(new_soup))\n",
    "    \n",
    "    \n",
    "    amazon_df = pd.DataFrame.from_dict(d)\n",
    "    \n",
    "    \n",
    "    "
   ]
  },
  {
   "cell_type": "code",
   "execution_count": 4,
   "id": "f5d06eae",
   "metadata": {},
   "outputs": [],
   "source": [
    "import numpy as np\n",
    "amazon_df = pd.DataFrame.from_dict(d)\n",
    "amazon_df['title'].replace('', np.nan, inplace=True)\n",
    "amazon_df = amazon_df.dropna(subset=['title'])\n",
    "amazon_df.to_csv(\"amazon_data.csv\", header=True, index=False)"
   ]
  },
  {
   "cell_type": "code",
   "execution_count": 5,
   "id": "b0121d13",
   "metadata": {
    "scrolled": false
   },
   "outputs": [
    {
     "data": {
      "text/html": [
       "<div>\n",
       "<style scoped>\n",
       "    .dataframe tbody tr th:only-of-type {\n",
       "        vertical-align: middle;\n",
       "    }\n",
       "\n",
       "    .dataframe tbody tr th {\n",
       "        vertical-align: top;\n",
       "    }\n",
       "\n",
       "    .dataframe thead th {\n",
       "        text-align: right;\n",
       "    }\n",
       "</style>\n",
       "<table border=\"1\" class=\"dataframe\">\n",
       "  <thead>\n",
       "    <tr style=\"text-align: right;\">\n",
       "      <th></th>\n",
       "      <th>title</th>\n",
       "      <th>price</th>\n",
       "      <th>rating</th>\n",
       "      <th>reviews</th>\n",
       "      <th>availability</th>\n",
       "    </tr>\n",
       "  </thead>\n",
       "  <tbody>\n",
       "    <tr>\n",
       "      <th>0</th>\n",
       "      <td>Sony PS5 PlayStation Console</td>\n",
       "      <td>49,990.</td>\n",
       "      <td>3.7 out of 5 stars</td>\n",
       "      <td>174 ratings</td>\n",
       "      <td>In stock</td>\n",
       "    </tr>\n",
       "    <tr>\n",
       "      <th>1</th>\n",
       "      <td>Sony PS5 Digital Standalone</td>\n",
       "      <td>39,990.</td>\n",
       "      <td></td>\n",
       "      <td>52 ratings</td>\n",
       "      <td></td>\n",
       "    </tr>\n",
       "    <tr>\n",
       "      <th>2</th>\n",
       "      <td>Sony PS5 PlayStation Console+God Of War Ragnar...</td>\n",
       "      <td>54,289.</td>\n",
       "      <td></td>\n",
       "      <td>2 ratings</td>\n",
       "      <td>In stock.</td>\n",
       "    </tr>\n",
       "    <tr>\n",
       "      <th>3</th>\n",
       "      <td>WWE 2K23 | Standard Edition | PlayStation 5</td>\n",
       "      <td>4,993.</td>\n",
       "      <td></td>\n",
       "      <td>2 ratings</td>\n",
       "      <td>In stock</td>\n",
       "    </tr>\n",
       "    <tr>\n",
       "      <th>4</th>\n",
       "      <td>Hogwarts Legacy | Standard Edition| PlayStatio...</td>\n",
       "      <td>4,299.</td>\n",
       "      <td></td>\n",
       "      <td>52 ratings</td>\n",
       "      <td>In stock</td>\n",
       "    </tr>\n",
       "    <tr>\n",
       "      <th>5</th>\n",
       "      <td>ELTONPS5 Skin Protective Wrap Cover Vinyl Stic...</td>\n",
       "      <td>799.</td>\n",
       "      <td>3.5 out of 5 stars</td>\n",
       "      <td>14 ratings</td>\n",
       "      <td></td>\n",
       "    </tr>\n",
       "    <tr>\n",
       "      <th>6</th>\n",
       "      <td>Horizon Forbidden West | Standard Edition | PS...</td>\n",
       "      <td>2,599.</td>\n",
       "      <td></td>\n",
       "      <td>268 ratings</td>\n",
       "      <td>In stock</td>\n",
       "    </tr>\n",
       "    <tr>\n",
       "      <th>7</th>\n",
       "      <td>Godfall | Standard Edition | PlayStation 5</td>\n",
       "      <td>2,208.</td>\n",
       "      <td></td>\n",
       "      <td></td>\n",
       "      <td>In stock</td>\n",
       "    </tr>\n",
       "    <tr>\n",
       "      <th>8</th>\n",
       "      <td>New World For PS5 Console Face Plates and RGB ...</td>\n",
       "      <td>3,599.</td>\n",
       "      <td></td>\n",
       "      <td>1 rating</td>\n",
       "      <td>In stock</td>\n",
       "    </tr>\n",
       "    <tr>\n",
       "      <th>9</th>\n",
       "      <td>Dead Space | Standard Edition | PlayStation 5</td>\n",
       "      <td>4,497.</td>\n",
       "      <td></td>\n",
       "      <td>4 ratings</td>\n",
       "      <td>In stock</td>\n",
       "    </tr>\n",
       "    <tr>\n",
       "      <th>10</th>\n",
       "      <td>Dorca® Dust Cover for Sony Playstation 5 Cover...</td>\n",
       "      <td>275.</td>\n",
       "      <td></td>\n",
       "      <td>285 ratings</td>\n",
       "      <td>In stock</td>\n",
       "    </tr>\n",
       "    <tr>\n",
       "      <th>11</th>\n",
       "      <td>WALLTON - PS5 Skin Protective Wrap Cover Vinyl...</td>\n",
       "      <td>699.</td>\n",
       "      <td></td>\n",
       "      <td>2 ratings</td>\n",
       "      <td>In stock</td>\n",
       "    </tr>\n",
       "    <tr>\n",
       "      <th>12</th>\n",
       "      <td>MICROWARE Playstation 5 Console Charging Stati...</td>\n",
       "      <td>5,693.</td>\n",
       "      <td></td>\n",
       "      <td>1 rating</td>\n",
       "      <td></td>\n",
       "    </tr>\n",
       "    <tr>\n",
       "      <th>13</th>\n",
       "      <td>Call of Duty: Vanguard (PS5) - PlayStation 5</td>\n",
       "      <td>3,155.</td>\n",
       "      <td></td>\n",
       "      <td>18 ratings</td>\n",
       "      <td>In stock</td>\n",
       "    </tr>\n",
       "    <tr>\n",
       "      <th>14</th>\n",
       "      <td>Waterproof Portable Storage carrying &amp; shoulde...</td>\n",
       "      <td>1,190.</td>\n",
       "      <td></td>\n",
       "      <td></td>\n",
       "      <td>In stock</td>\n",
       "    </tr>\n",
       "    <tr>\n",
       "      <th>15</th>\n",
       "      <td>Far Cry 6 | Standard Edition | Playstation 5 (...</td>\n",
       "      <td>2,045.</td>\n",
       "      <td></td>\n",
       "      <td>120 ratings</td>\n",
       "      <td></td>\n",
       "    </tr>\n",
       "    <tr>\n",
       "      <th>16</th>\n",
       "      <td>PS5 Grand Theft Auto V</td>\n",
       "      <td>2,078.</td>\n",
       "      <td></td>\n",
       "      <td>162 ratings</td>\n",
       "      <td>In stock</td>\n",
       "    </tr>\n",
       "    <tr>\n",
       "      <th>17</th>\n",
       "      <td>PS5 WWE 2K22</td>\n",
       "      <td>1,999.</td>\n",
       "      <td></td>\n",
       "      <td>82 ratings</td>\n",
       "      <td>In stock</td>\n",
       "    </tr>\n",
       "    <tr>\n",
       "      <th>18</th>\n",
       "      <td>WALLTON PS5 Skin Protective Wrap Cover Vinyl S...</td>\n",
       "      <td>699.</td>\n",
       "      <td></td>\n",
       "      <td>2 ratings</td>\n",
       "      <td>In stock</td>\n",
       "    </tr>\n",
       "    <tr>\n",
       "      <th>19</th>\n",
       "      <td>WALLTON PS5 Skin Protective Wrap Cover Vinyl S...</td>\n",
       "      <td>699.</td>\n",
       "      <td></td>\n",
       "      <td>2 ratings</td>\n",
       "      <td>In stock</td>\n",
       "    </tr>\n",
       "    <tr>\n",
       "      <th>20</th>\n",
       "      <td>Sony PS5 PlayStation Console</td>\n",
       "      <td>49,990.</td>\n",
       "      <td>3.7 out of 5 stars</td>\n",
       "      <td>174 ratings</td>\n",
       "      <td>In stock</td>\n",
       "    </tr>\n",
       "    <tr>\n",
       "      <th>21</th>\n",
       "      <td>Sony PS5 Digital Standalone</td>\n",
       "      <td>39,990.</td>\n",
       "      <td></td>\n",
       "      <td>52 ratings</td>\n",
       "      <td></td>\n",
       "    </tr>\n",
       "    <tr>\n",
       "      <th>22</th>\n",
       "      <td>Sony PS5 PlayStation Console+God Of War Ragnar...</td>\n",
       "      <td>54,289.</td>\n",
       "      <td></td>\n",
       "      <td>2 ratings</td>\n",
       "      <td>In stock.</td>\n",
       "    </tr>\n",
       "    <tr>\n",
       "      <th>23</th>\n",
       "      <td>WWE 2K23 | Standard Edition | PlayStation 5</td>\n",
       "      <td>4,993.</td>\n",
       "      <td></td>\n",
       "      <td>2 ratings</td>\n",
       "      <td>In stock</td>\n",
       "    </tr>\n",
       "    <tr>\n",
       "      <th>24</th>\n",
       "      <td>Hogwarts Legacy | Standard Edition| PlayStatio...</td>\n",
       "      <td>4,299.</td>\n",
       "      <td></td>\n",
       "      <td>52 ratings</td>\n",
       "      <td>In stock</td>\n",
       "    </tr>\n",
       "    <tr>\n",
       "      <th>25</th>\n",
       "      <td>ELTONPS5 Skin Protective Wrap Cover Vinyl Stic...</td>\n",
       "      <td>799.</td>\n",
       "      <td>3.5 out of 5 stars</td>\n",
       "      <td>14 ratings</td>\n",
       "      <td></td>\n",
       "    </tr>\n",
       "    <tr>\n",
       "      <th>26</th>\n",
       "      <td>Horizon Forbidden West | Standard Edition | PS...</td>\n",
       "      <td>2,599.</td>\n",
       "      <td></td>\n",
       "      <td>268 ratings</td>\n",
       "      <td>In stock</td>\n",
       "    </tr>\n",
       "    <tr>\n",
       "      <th>27</th>\n",
       "      <td>Godfall | Standard Edition | PlayStation 5</td>\n",
       "      <td>2,208.</td>\n",
       "      <td></td>\n",
       "      <td></td>\n",
       "      <td>In stock</td>\n",
       "    </tr>\n",
       "    <tr>\n",
       "      <th>28</th>\n",
       "      <td>New World For PS5 Console Face Plates and RGB ...</td>\n",
       "      <td>3,599.</td>\n",
       "      <td></td>\n",
       "      <td>1 rating</td>\n",
       "      <td>In stock</td>\n",
       "    </tr>\n",
       "    <tr>\n",
       "      <th>29</th>\n",
       "      <td>Dead Space | Standard Edition | PlayStation 5</td>\n",
       "      <td>4,497.</td>\n",
       "      <td></td>\n",
       "      <td>4 ratings</td>\n",
       "      <td>In stock</td>\n",
       "    </tr>\n",
       "    <tr>\n",
       "      <th>30</th>\n",
       "      <td>Dorca® Dust Cover for Sony Playstation 5 Cover...</td>\n",
       "      <td>275.</td>\n",
       "      <td></td>\n",
       "      <td>285 ratings</td>\n",
       "      <td>In stock</td>\n",
       "    </tr>\n",
       "    <tr>\n",
       "      <th>31</th>\n",
       "      <td>WALLTON - PS5 Skin Protective Wrap Cover Vinyl...</td>\n",
       "      <td>699.</td>\n",
       "      <td></td>\n",
       "      <td>2 ratings</td>\n",
       "      <td>In stock</td>\n",
       "    </tr>\n",
       "    <tr>\n",
       "      <th>32</th>\n",
       "      <td>MICROWARE Playstation 5 Console Charging Stati...</td>\n",
       "      <td>5,693.</td>\n",
       "      <td></td>\n",
       "      <td>1 rating</td>\n",
       "      <td></td>\n",
       "    </tr>\n",
       "    <tr>\n",
       "      <th>33</th>\n",
       "      <td>Call of Duty: Vanguard (PS5) - PlayStation 5</td>\n",
       "      <td>3,155.</td>\n",
       "      <td></td>\n",
       "      <td>18 ratings</td>\n",
       "      <td>In stock</td>\n",
       "    </tr>\n",
       "    <tr>\n",
       "      <th>34</th>\n",
       "      <td>Waterproof Portable Storage carrying &amp; shoulde...</td>\n",
       "      <td>1,190.</td>\n",
       "      <td></td>\n",
       "      <td></td>\n",
       "      <td>In stock</td>\n",
       "    </tr>\n",
       "    <tr>\n",
       "      <th>35</th>\n",
       "      <td>Far Cry 6 | Standard Edition | Playstation 5 (...</td>\n",
       "      <td></td>\n",
       "      <td></td>\n",
       "      <td>120 ratings</td>\n",
       "      <td></td>\n",
       "    </tr>\n",
       "    <tr>\n",
       "      <th>36</th>\n",
       "      <td>PS5 Grand Theft Auto V</td>\n",
       "      <td>2,078.</td>\n",
       "      <td></td>\n",
       "      <td>162 ratings</td>\n",
       "      <td>In stock</td>\n",
       "    </tr>\n",
       "    <tr>\n",
       "      <th>37</th>\n",
       "      <td>PS5 WWE 2K22</td>\n",
       "      <td>1,999.</td>\n",
       "      <td></td>\n",
       "      <td>82 ratings</td>\n",
       "      <td>In stock</td>\n",
       "    </tr>\n",
       "    <tr>\n",
       "      <th>38</th>\n",
       "      <td>WALLTON PS5 Skin Protective Wrap Cover Vinyl S...</td>\n",
       "      <td>699.</td>\n",
       "      <td></td>\n",
       "      <td>2 ratings</td>\n",
       "      <td>In stock</td>\n",
       "    </tr>\n",
       "    <tr>\n",
       "      <th>39</th>\n",
       "      <td>WALLTON PS5 Skin Protective Wrap Cover Vinyl S...</td>\n",
       "      <td>699.</td>\n",
       "      <td></td>\n",
       "      <td>2 ratings</td>\n",
       "      <td>In stock</td>\n",
       "    </tr>\n",
       "  </tbody>\n",
       "</table>\n",
       "</div>"
      ],
      "text/plain": [
       "                                                title    price  \\\n",
       "0                        Sony PS5 PlayStation Console  49,990.   \n",
       "1                         Sony PS5 Digital Standalone  39,990.   \n",
       "2   Sony PS5 PlayStation Console+God Of War Ragnar...  54,289.   \n",
       "3         WWE 2K23 | Standard Edition | PlayStation 5   4,993.   \n",
       "4   Hogwarts Legacy | Standard Edition| PlayStatio...   4,299.   \n",
       "5   ELTONPS5 Skin Protective Wrap Cover Vinyl Stic...     799.   \n",
       "6   Horizon Forbidden West | Standard Edition | PS...   2,599.   \n",
       "7          Godfall | Standard Edition | PlayStation 5   2,208.   \n",
       "8   New World For PS5 Console Face Plates and RGB ...   3,599.   \n",
       "9       Dead Space | Standard Edition | PlayStation 5   4,497.   \n",
       "10  Dorca® Dust Cover for Sony Playstation 5 Cover...     275.   \n",
       "11  WALLTON - PS5 Skin Protective Wrap Cover Vinyl...     699.   \n",
       "12  MICROWARE Playstation 5 Console Charging Stati...   5,693.   \n",
       "13       Call of Duty: Vanguard (PS5) - PlayStation 5   3,155.   \n",
       "14  Waterproof Portable Storage carrying & shoulde...   1,190.   \n",
       "15  Far Cry 6 | Standard Edition | Playstation 5 (...   2,045.   \n",
       "16                             PS5 Grand Theft Auto V   2,078.   \n",
       "17                                       PS5 WWE 2K22   1,999.   \n",
       "18  WALLTON PS5 Skin Protective Wrap Cover Vinyl S...     699.   \n",
       "19  WALLTON PS5 Skin Protective Wrap Cover Vinyl S...     699.   \n",
       "20                       Sony PS5 PlayStation Console  49,990.   \n",
       "21                        Sony PS5 Digital Standalone  39,990.   \n",
       "22  Sony PS5 PlayStation Console+God Of War Ragnar...  54,289.   \n",
       "23        WWE 2K23 | Standard Edition | PlayStation 5   4,993.   \n",
       "24  Hogwarts Legacy | Standard Edition| PlayStatio...   4,299.   \n",
       "25  ELTONPS5 Skin Protective Wrap Cover Vinyl Stic...     799.   \n",
       "26  Horizon Forbidden West | Standard Edition | PS...   2,599.   \n",
       "27         Godfall | Standard Edition | PlayStation 5   2,208.   \n",
       "28  New World For PS5 Console Face Plates and RGB ...   3,599.   \n",
       "29      Dead Space | Standard Edition | PlayStation 5   4,497.   \n",
       "30  Dorca® Dust Cover for Sony Playstation 5 Cover...     275.   \n",
       "31  WALLTON - PS5 Skin Protective Wrap Cover Vinyl...     699.   \n",
       "32  MICROWARE Playstation 5 Console Charging Stati...   5,693.   \n",
       "33       Call of Duty: Vanguard (PS5) - PlayStation 5   3,155.   \n",
       "34  Waterproof Portable Storage carrying & shoulde...   1,190.   \n",
       "35  Far Cry 6 | Standard Edition | Playstation 5 (...            \n",
       "36                             PS5 Grand Theft Auto V   2,078.   \n",
       "37                                       PS5 WWE 2K22   1,999.   \n",
       "38  WALLTON PS5 Skin Protective Wrap Cover Vinyl S...     699.   \n",
       "39  WALLTON PS5 Skin Protective Wrap Cover Vinyl S...     699.   \n",
       "\n",
       "                rating      reviews availability  \n",
       "0   3.7 out of 5 stars  174 ratings     In stock  \n",
       "1                        52 ratings               \n",
       "2                         2 ratings    In stock.  \n",
       "3                         2 ratings     In stock  \n",
       "4                        52 ratings     In stock  \n",
       "5   3.5 out of 5 stars   14 ratings               \n",
       "6                       268 ratings     In stock  \n",
       "7                                       In stock  \n",
       "8                          1 rating     In stock  \n",
       "9                         4 ratings     In stock  \n",
       "10                      285 ratings     In stock  \n",
       "11                        2 ratings     In stock  \n",
       "12                         1 rating               \n",
       "13                       18 ratings     In stock  \n",
       "14                                      In stock  \n",
       "15                      120 ratings               \n",
       "16                      162 ratings     In stock  \n",
       "17                       82 ratings     In stock  \n",
       "18                        2 ratings     In stock  \n",
       "19                        2 ratings     In stock  \n",
       "20  3.7 out of 5 stars  174 ratings     In stock  \n",
       "21                       52 ratings               \n",
       "22                        2 ratings    In stock.  \n",
       "23                        2 ratings     In stock  \n",
       "24                       52 ratings     In stock  \n",
       "25  3.5 out of 5 stars   14 ratings               \n",
       "26                      268 ratings     In stock  \n",
       "27                                      In stock  \n",
       "28                         1 rating     In stock  \n",
       "29                        4 ratings     In stock  \n",
       "30                      285 ratings     In stock  \n",
       "31                        2 ratings     In stock  \n",
       "32                         1 rating               \n",
       "33                       18 ratings     In stock  \n",
       "34                                      In stock  \n",
       "35                      120 ratings               \n",
       "36                      162 ratings     In stock  \n",
       "37                       82 ratings     In stock  \n",
       "38                        2 ratings     In stock  \n",
       "39                        2 ratings     In stock  "
      ]
     },
     "execution_count": 5,
     "metadata": {},
     "output_type": "execute_result"
    }
   ],
   "source": [
    "amazon_df.head(100)"
   ]
  },
  {
   "cell_type": "code",
   "execution_count": 3,
   "id": "80915648",
   "metadata": {},
   "outputs": [],
   "source": [
    "URL = \"https://www.amazon.in/s?k=playstation+5&crid=3BV45YDFQQE2G&sprefix=playstation+4%2Caps%2C269&ref=nb_sb_noss_2\"\n",
    "HEADERS = ({'User-Agent':'Mozilla/5.0 (Windows NT 10.0; Win64; x64) AppleWebKit/537.36 (KHTML, like Gecko) Chrome/112.0.0.0 Safari/537.36', 'Accept-Language': 'en-US, en;q=0.5'})\n"
   ]
  },
  {
   "cell_type": "code",
   "execution_count": 4,
   "id": "18ff7133",
   "metadata": {},
   "outputs": [
    {
     "data": {
      "text/plain": [
       "<Response [200]>"
      ]
     },
     "execution_count": 4,
     "metadata": {},
     "output_type": "execute_result"
    }
   ],
   "source": [
    "webpage = requests.get(URL,headers=HEADERS)\n",
    "webpage"
   ]
  },
  {
   "cell_type": "code",
   "execution_count": 5,
   "id": "11fbcb61",
   "metadata": {},
   "outputs": [],
   "source": [
    "soup = BeautifulSoup(webpage.content,'html.parser')"
   ]
  },
  {
   "cell_type": "code",
   "execution_count": 6,
   "id": "2cec336d",
   "metadata": {},
   "outputs": [],
   "source": [
    "links = soup.find_all('a',attrs={'class':'a-link-normal s-underline-text s-underline-link-text s-link-style a-text-normal'})"
   ]
  },
  {
   "cell_type": "code",
   "execution_count": 7,
   "id": "387d7a50",
   "metadata": {},
   "outputs": [],
   "source": [
    "link = links[0].get('href')"
   ]
  },
  {
   "cell_type": "code",
   "execution_count": 8,
   "id": "39a662f6",
   "metadata": {},
   "outputs": [
    {
     "data": {
      "text/plain": [
       "20"
      ]
     },
     "execution_count": 8,
     "metadata": {},
     "output_type": "execute_result"
    }
   ],
   "source": [
    "len(links)"
   ]
  },
  {
   "cell_type": "code",
   "execution_count": 9,
   "id": "65006e3e",
   "metadata": {},
   "outputs": [],
   "source": [
    "product_list = \"https://amazon.in\"+link"
   ]
  },
  {
   "cell_type": "code",
   "execution_count": 10,
   "id": "73190101",
   "metadata": {},
   "outputs": [
    {
     "data": {
      "text/plain": [
       "'https://amazon.in/Sony-PS5-PlayStation-Console/dp/B0BRCP72X8/ref=sr_1_1?crid=3BV45YDFQQE2G&keywords=playstation+5&qid=1681970865&sprefix=playstation+4%2Caps%2C269&sr=8-1'"
      ]
     },
     "execution_count": 10,
     "metadata": {},
     "output_type": "execute_result"
    }
   ],
   "source": [
    "product_list"
   ]
  },
  {
   "cell_type": "code",
   "execution_count": 11,
   "id": "b8954811",
   "metadata": {},
   "outputs": [],
   "source": [
    "new_webpage = requests.get(product_list,headers=HEADERS)"
   ]
  },
  {
   "cell_type": "code",
   "execution_count": 12,
   "id": "89c0680a",
   "metadata": {},
   "outputs": [
    {
     "data": {
      "text/plain": [
       "<Response [200]>"
      ]
     },
     "execution_count": 12,
     "metadata": {},
     "output_type": "execute_result"
    }
   ],
   "source": [
    "new_webpage"
   ]
  },
  {
   "cell_type": "code",
   "execution_count": 13,
   "id": "ecab929e",
   "metadata": {},
   "outputs": [],
   "source": [
    "new_soup = BeautifulSoup(new_webpage.content,'html.parser')"
   ]
  },
  {
   "cell_type": "code",
   "execution_count": 14,
   "id": "ef065e59",
   "metadata": {},
   "outputs": [
    {
     "data": {
      "text/plain": [
       "'Sony PS5 PlayStation Console'"
      ]
     },
     "execution_count": 14,
     "metadata": {},
     "output_type": "execute_result"
    }
   ],
   "source": [
    "new_soup.find('span',id='productTitle').text.strip()"
   ]
  },
  {
   "cell_type": "code",
   "execution_count": 15,
   "id": "9fba00de",
   "metadata": {},
   "outputs": [
    {
     "data": {
      "text/plain": [
       "'49,990'"
      ]
     },
     "execution_count": 15,
     "metadata": {},
     "output_type": "execute_result"
    }
   ],
   "source": [
    "new_soup.find('span',class_='a-price-whole').text.strip('.')"
   ]
  },
  {
   "cell_type": "code",
   "execution_count": 16,
   "id": "c3542af4",
   "metadata": {},
   "outputs": [
    {
     "data": {
      "text/plain": [
       "'3.7 out of 5 stars'"
      ]
     },
     "execution_count": 16,
     "metadata": {},
     "output_type": "execute_result"
    }
   ],
   "source": [
    "new_soup.find('i',class_='a-icon a-icon-star a-star-3-5').text.strip('.')"
   ]
  },
  {
   "cell_type": "code",
   "execution_count": null,
   "id": "7f26259e",
   "metadata": {},
   "outputs": [],
   "source": [
    "link_list=[]\n",
    "HEADERS = ({'User-Agent':'Mozilla/5.0 (Windows NT 10.0; Win64; x64) AppleWebKit/537.36 (KHTML, like Gecko) Chrome/112.0.0.0 Safari/537.36', 'Accept-Language': 'en-US, en;q=0.5'})\n",
    "for i in range(20):\n",
    "    URL = \"https://www.amazon.in/s?k=playstation+5&page=1&qid=1681969945&sprefix=play%2Caps%2C881&ref=sr_pg_2\"\n",
    "    \n",
    "    webpage = requests.get(URL,headers=HEADERS)\n",
    "\n",
    "    soup = BeautifulSoup(webpage.content,'html.parser')\n",
    "\n",
    "    links = soup.find_all('a',attrs={'class':'a-link-normal s-underline-text s-underline-link-text s-link-style a-text-normal'})\n",
    "\n",
    "    for link in links:\n",
    "        link_list.append(link.get('href'))"
   ]
  },
  {
   "cell_type": "code",
   "execution_count": null,
   "id": "e2d6163f",
   "metadata": {},
   "outputs": [],
   "source": [
    "len(link_list)"
   ]
  },
  {
   "cell_type": "code",
   "execution_count": null,
   "id": "acbf637d",
   "metadata": {},
   "outputs": [],
   "source": []
  },
  {
   "cell_type": "code",
   "execution_count": null,
   "id": "582e7894",
   "metadata": {},
   "outputs": [],
   "source": []
  },
  {
   "cell_type": "code",
   "execution_count": null,
   "id": "f2dada85",
   "metadata": {},
   "outputs": [],
   "source": []
  },
  {
   "cell_type": "code",
   "execution_count": null,
   "id": "a704f6c5",
   "metadata": {},
   "outputs": [],
   "source": []
  },
  {
   "cell_type": "code",
   "execution_count": null,
   "id": "32cb3646",
   "metadata": {},
   "outputs": [],
   "source": []
  },
  {
   "cell_type": "code",
   "execution_count": null,
   "id": "14e4057e",
   "metadata": {},
   "outputs": [],
   "source": []
  },
  {
   "cell_type": "code",
   "execution_count": null,
   "id": "7f18ab00",
   "metadata": {},
   "outputs": [],
   "source": []
  },
  {
   "cell_type": "code",
   "execution_count": null,
   "id": "27f5aa55",
   "metadata": {},
   "outputs": [],
   "source": []
  },
  {
   "cell_type": "code",
   "execution_count": null,
   "id": "f4ec85a5",
   "metadata": {},
   "outputs": [],
   "source": []
  },
  {
   "cell_type": "code",
   "execution_count": null,
   "id": "3659a9a1",
   "metadata": {},
   "outputs": [],
   "source": []
  },
  {
   "cell_type": "code",
   "execution_count": null,
   "id": "5c01fef8",
   "metadata": {},
   "outputs": [],
   "source": []
  },
  {
   "cell_type": "code",
   "execution_count": null,
   "id": "052448a1",
   "metadata": {},
   "outputs": [],
   "source": []
  },
  {
   "cell_type": "code",
   "execution_count": null,
   "id": "767a7c66",
   "metadata": {},
   "outputs": [],
   "source": []
  },
  {
   "cell_type": "code",
   "execution_count": null,
   "id": "e132f274",
   "metadata": {},
   "outputs": [],
   "source": []
  },
  {
   "cell_type": "code",
   "execution_count": null,
   "id": "51e8647a",
   "metadata": {},
   "outputs": [],
   "source": []
  },
  {
   "cell_type": "code",
   "execution_count": null,
   "id": "84149da8",
   "metadata": {},
   "outputs": [],
   "source": []
  },
  {
   "cell_type": "code",
   "execution_count": null,
   "id": "c668df48",
   "metadata": {},
   "outputs": [],
   "source": []
  }
 ],
 "metadata": {
  "kernelspec": {
   "display_name": "conda[root]",
   "language": "python",
   "name": "sample"
  },
  "language_info": {
   "codemirror_mode": {
    "name": "ipython",
    "version": 3
   },
   "file_extension": ".py",
   "mimetype": "text/x-python",
   "name": "python",
   "nbconvert_exporter": "python",
   "pygments_lexer": "ipython3",
   "version": "3.10.8"
  }
 },
 "nbformat": 4,
 "nbformat_minor": 5
}
